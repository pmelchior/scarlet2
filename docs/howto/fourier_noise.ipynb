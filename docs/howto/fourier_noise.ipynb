{
 "cells": [
  {
   "cell_type": "markdown",
   "id": "e00bde47-7577-427e-a0bb-3b4f6b5923ac",
   "metadata": {},
   "source": [
    "# Fit Multiple Observations\n",
    "\n",
    "This tutorial shows how to model sources from images observed in different ways, which could mean images taken with the same instrument but different pointings and PSFs, or with different instruments. For this guide we will use a multi-band observation from the Hyper-Suprime Cam (HSC) and a single high-resolution image from the Hubble Space Telescope (HST)."
   ]
  },
  {
   "cell_type": "code",
   "execution_count": null,
   "id": "b6968031-3276-4f8a-9429-2b61cd421e99",
   "metadata": {},
   "outputs": [],
   "source": [
    "try:\n",
    "    import galsim\n",
    "except ImportError:\n",
    "    !pip install galsim\n",
    "    import galsim"
   ]
  },
  {
   "cell_type": "markdown",
   "id": "36354e19-4962-4f72-ad95-c37d6012f526",
   "metadata": {},
   "source": [
    "# Fit Multiple Observations\n",
    "\n",
    "This tutorial shows how to model sources from images observed in different ways, which could mean images taken with the same instrument but different pointings and PSFs, or with different instruments. For this guide we will use a multi-band observation from the Hyper-Suprime Cam (HSC) and a single high-resolution image from the Hubble Space Telescope (HST)."
   ]
  },
  {
   "cell_type": "code",
   "execution_count": null,
   "id": "001b20ac-1502-4c15-8153-2a71ddc6f556",
   "metadata": {},
   "outputs": [],
   "source": [
    "import astropy.io.fits as fits\n",
    "import astropy.units as u\n",
    "\n",
    "# Import Packages\n",
    "import numpy as np\n",
    "import jax.numpy as jnp\n",
    "from astropy.coordinates import SkyCoord\n",
    "from astropy.table import Table\n",
    "from astropy.wcs import WCS\n",
    "\n",
    "import scarlet2\n",
    "from scarlet2 import set_validation\n",
    "\n",
    "set_validation(False)"
   ]
  },
  {
   "cell_type": "markdown",
   "id": "b2db4393-77d1-4625-a62e-a8f96e730075",
   "metadata": {
    "id": "f3bebc3f-e085-456d-b22a-843755b2524a"
   },
   "source": [
    "## Load Data\n",
    "\n",
    "We first load the HSC and HST images, PSFs and precomputeed weight/variance maps. We also load a catalog of sources detected jointly from the observations (see [here](https://github.com/astro-data-lab/scarlet-test-data/blob/main/scarlet_test_data/data/multiresolution_tutorial/get_source_catalog.py) for details on how this catalog was created)."
   ]
  },
  {
   "cell_type": "code",
   "execution_count": null,
   "id": "b8eb94ba-1ea5-45ba-b4f5-689f6abe7d9e",
   "metadata": {},
   "outputs": [],
   "source": [
    "from huggingface_hub import hf_hub_download\n",
    "\n",
    "filename = hf_hub_download(\n",
    "    repo_id=\"astro-data-lab/scarlet-test-data\",\n",
    "    filename=\"multiresolution_tutorial/data.fits.gz\",\n",
    "    repo_type=\"dataset\",\n",
    ")\n",
    "\n",
    "with fits.open(filename) as hdul:\n",
    "    # Load HSC observation\n",
    "    data_hsc = jnp.array(hdul[\"HSC_OBS\"].data, jnp.float32)\n",
    "    wcs_hsc = WCS(hdul[\"HSC_OBS\"].header)\n",
    "\n",
    "    # Load HSC PSF and weights\n",
    "    psf_hsc_data = jnp.array(hdul[\"HSC_PSF\"].data, jnp.float32)\n",
    "    obs_hsc_weights = jnp.array(hdul[\"HSC_WEIGHTS\"].data, jnp.float32)\n",
    "\n",
    "    # Load HST observation\n",
    "    data_hst = jnp.array(hdul[\"HST_OBS\"].data, jnp.float32)\n",
    "    wcs_hst = WCS(hdul[\"HST_OBS\"].header)\n",
    "\n",
    "    # Load HST PSF and weights\n",
    "    psf_hst_data = jnp.array(hdul[\"HST_PSF\"].data, jnp.float32)\n",
    "    obs_hst_weights = jnp.array(hdul[\"HST_WEIGHTS\"].data, jnp.float32)\n",
    "\n",
    "    # Load catalog table and metadata\n",
    "    coords_table = Table(hdul[\"CATALOG\"].data)\n",
    "    radecsys = hdul[\"CATALOG\"].header[\"RADECSYS\"]\n",
    "    equinox = hdul[\"CATALOG\"].header[\"EQUINOX\"]"
   ]
  },
  {
   "cell_type": "code",
   "execution_count": null,
   "id": "4d2f9e4b-5620-4440-b03e-d026091bf957",
   "metadata": {},
   "outputs": [],
   "source": [
    "# Write sources coordinates in SkyCoord\n",
    "ra_dec = SkyCoord(\n",
    "    ra=coords_table[\"RA\"] * u.deg,\n",
    "    dec=coords_table[\"DEC\"] * u.deg,\n",
    "    frame=radecsys.lower(),\n",
    "    equinox=f\"J{equinox}\",\n",
    ")"
   ]
  },
  {
   "cell_type": "markdown",
   "id": "be79b269-1463-4d6d-ad96-1941338f2dc5",
   "metadata": {},
   "source": [
    "## Create Frame and Observations\n",
    "\n",
    "We have two different instruments with different pixel resolutions, so we need two different observations. Since the HST image is at a much higher resolution, we define our model `Frame` to use the HST PSF and the HST resolution. The high resolution and low resolution `Observation` are then matched to the model frame, to define the renderering operation. "
   ]
  },
  {
   "cell_type": "code",
   "execution_count": null,
   "id": "5e268f45-a4c6-4e07-bfaf-dab6491f7768",
   "metadata": {},
   "outputs": [],
   "source": [
    "wcs_hst"
   ]
  },
  {
   "cell_type": "code",
   "execution_count": null,
   "id": "9b517930-9941-470e-981c-eb6deb49c4bc",
   "metadata": {},
   "outputs": [],
   "source": [
    "# Scarlet Observations\n",
    "obs_hst = scarlet2.Observation(\n",
    "    data_hst, wcs=wcs_hst, psf=scarlet2.ArrayPSF(psf_hst_data), channels=[\"F814W\"], weights=obs_hst_weights\n",
    ")\n",
    "\n",
    "obs_hsc = scarlet2.Observation(\n",
    "    data_hsc,\n",
    "    wcs=wcs_hsc,\n",
    "    psf=scarlet2.ArrayPSF(psf_hsc_data),\n",
    "    channels=[\"g\", \"r\", \"i\", \"z\", \"y\"],\n",
    "    weights=obs_hsc_weights,\n",
    ")"
   ]
  },
  {
   "cell_type": "markdown",
   "id": "f3bebc3f-e085-456d-b22a-843755b2524a",
   "metadata": {
    "id": "f3bebc3f-e085-456d-b22a-843755b2524a"
   },
   "source": [
    "## Load Data\n",
    "\n",
    "We first load the HSC and HST images, PSFs and precomputeed weight/variance maps. We also load a catalog of sources detected jointly from the observations (see [here](https://github.com/astro-data-lab/scarlet-test-data/blob/main/scarlet_test_data/data/multiresolution_tutorial/get_source_catalog.py) for details on how this catalog was created)."
   ]
  },
  {
   "cell_type": "code",
   "execution_count": null,
   "id": "8117d084-f52a-4832-890b-bb9549ba1b4e",
   "metadata": {},
   "outputs": [],
   "source": [
    "# Write sources coordinates in SkyCoord\n",
    "ra_dec = SkyCoord(\n",
    "    ra=coords_table[\"RA\"] * u.deg,\n",
    "    dec=coords_table[\"DEC\"] * u.deg,\n",
    "    frame=radecsys.lower(),\n",
    "    equinox=f\"J{equinox}\",\n",
    ")"
   ]
  },
  {
   "cell_type": "markdown",
   "id": "f132eb6e-395a-4308-a552-66f7e3b837e2",
   "metadata": {},
   "source": [
    "## Create Frame and Observations\n",
    "\n",
    "We have two different instruments with different pixel resolutions, so we need two different observations. Since the HST image is at a much higher resolution, we define our model `Frame` to use the HST PSF and the HST resolution. The high resolution and low resolution `Observation` are then matched to the model frame, to define the renderering operation. "
   ]
  },
  {
   "cell_type": "code",
   "execution_count": null,
   "id": "e25fa70c-25f8-4cca-ad50-85438cbe298e",
   "metadata": {},
   "outputs": [],
   "source": [
    "import galsim\n",
    "import matplotlib.pyplot as plt"
   ]
  },
  {
   "cell_type": "markdown",
   "id": "a0b7be5f-bcba-40ff-ac8f-0ed3f4e321c2",
   "metadata": {},
   "source": [
    "Import HST noise model from `galsim`"
   ]
  },
  {
   "cell_type": "code",
   "execution_count": null,
   "id": "82c36fb5-1710-48e1-bf78-b56c5b2e3b65",
   "metadata": {},
   "outputs": [],
   "source": [
    "# Create noise map\n",
    "\n",
    "rng = galsim.BaseDeviate(12356)\n",
    "noise_cosmos = galsim.getCOSMOSNoise(rng=rng)"
   ]
  },
  {
   "cell_type": "code",
   "execution_count": null,
   "id": "ec5f7718-0065-4a24-af5d-12402d4966a6",
   "metadata": {},
   "outputs": [],
   "source": [
    "noise = galsim.getCOSMOSNoise(rng=rng)\n",
    "im_size = data_hst.shape[-1]\n",
    "pix_scale = 0.03\n",
    "image = galsim.ImageD(im_size, im_size, scale=pix_scale)\n",
    "image.addNoise(noise)\n",
    "im_noise = image.array"
   ]
  },
  {
   "cell_type": "code",
   "execution_count": null,
   "id": "53e4789d-8498-42ef-a2f9-427e0899bac6",
   "metadata": {},
   "outputs": [],
   "source": [
    "plt.imshow(im_noise)\n",
    "plt.colorbar()"
   ]
  },
  {
   "cell_type": "markdown",
   "id": "d9a35ad9-b539-4fdf-be9d-c48cfe3944df",
   "metadata": {},
   "source": [
    "Make noise power spectrum"
   ]
  },
  {
   "cell_type": "code",
   "execution_count": null,
   "id": "bf35ea14-5181-4427-b1fc-414ce114f137",
   "metadata": {},
   "outputs": [],
   "source": [
    "noise_fourier = np.fft.fftshift(np.fft.fft2(im_noise))\n",
    "\n",
    "\n",
    "def make_ps(data_ft):\n",
    "    # data_ft must be a squared centered fourier image\n",
    "\n",
    "    width = data_ft.shape[0]\n",
    "    power_spectrum_2d = np.abs(data_ft * np.conjugate(data_ft)) / width**2\n",
    "\n",
    "    center = width / 2\n",
    "    v, u = np.indices((data_ft.shape))\n",
    "    k = np.sqrt((u - center) ** 2 + (v - center) ** 2)\n",
    "    k = k.astype(\"int32\")\n",
    "\n",
    "    tbin = np.bincount(k.ravel(), power_spectrum_2d.ravel())\n",
    "    nr = np.bincount(k.ravel())\n",
    "    radialprofile = tbin / nr\n",
    "\n",
    "    nyquist = data_ft.shape[0] // 2\n",
    "    # nyquist = -1\n",
    "    power_spectrum_1d = radialprofile[:nyquist]\n",
    "\n",
    "    return power_spectrum_1d\n",
    "\n",
    "\n",
    "noise_fourier = np.fft.fftshift(np.fft.fft2(im_noise))\n",
    "\n",
    "noise_ps = make_ps(noise_fourier)\n",
    "\n",
    "plt.loglog(noise_ps)"
   ]
  },
  {
   "cell_type": "code",
   "execution_count": null,
   "id": "131dcc7b-f5ff-4ad8-b574-ef0d56da4312",
   "metadata": {},
   "outputs": [],
   "source": [
    "# Scarlet Observations\n",
    "obs_hst = scarlet2.CorrelatedNoiseObservation(\n",
    "    data_hst,\n",
    "    wcs=wcs_hst,\n",
    "    psf=scarlet2.ArrayPSF(psf_hst_data),\n",
    "    channels=[\"F814W\"],\n",
    "    weights=obs_hst_weights,\n",
    "    noise_ps=noise_ps,\n",
    ")\n",
    "\n",
    "obs_hsc = scarlet2.Observation(\n",
    "    data_hsc,\n",
    "    wcs=wcs_hsc,\n",
    "    psf=scarlet2.ArrayPSF(psf_hsc_data),\n",
    "    channels=[\"g\", \"r\", \"i\", \"z\", \"y\"],\n",
    "    weights=obs_hsc_weights,\n",
    ")"
   ]
  },
  {
   "cell_type": "markdown",
   "id": "17c8b119-497d-4be0-b75c-c514a72836cc",
   "metadata": {},
   "source": [
    "Define the model frame by the union (or intersection) of the observation frames."
   ]
  },
  {
   "cell_type": "code",
   "execution_count": null,
   "id": "b0f316c6",
   "metadata": {},
   "outputs": [],
   "source": [
    "model_frame = scarlet2.Frame.from_observations(\n",
    "    observations=[obs_hst, obs_hsc],\n",
    "    coverage=\"union\",  # or \"intersection\"\n",
    ")"
   ]
  },
  {
   "cell_type": "markdown",
   "id": "abb5bbf9-0eb7-4c37-bb55-43904ec6af48",
   "metadata": {
    "id": "abb5bbf9-0eb7-4c37-bb55-43904ec6af48"
   },
   "source": [
    "Finally we can visualize the detections for the multi-band HSC and single-band HST images in their native resolutions:"
   ]
  },
  {
   "cell_type": "code",
   "execution_count": null,
   "id": "9d50ffdd-147b-4142-a3e5-b0c278283fb8",
   "metadata": {},
   "outputs": [],
   "source": [
    "norm_hst = scarlet2.plot.AsinhAutomaticNorm(obs_hst)\n",
    "norm_hsc = scarlet2.plot.AsinhAutomaticNorm(obs_hsc)\n",
    "\n",
    "# Convert catalog sky coordinates to observation frames coordinates\n",
    "\n",
    "# Convert to HST pixels\n",
    "pixel_hst = obs_hst.frame.get_pixel(ra_dec)\n",
    "\n",
    "# Convert to HSC pixels\n",
    "pixel_hsc = obs_hsc.frame.get_pixel(ra_dec)\n",
    "\n",
    "scarlet2.plot.observation(obs_hst, norm=norm_hst, sky_coords=pixel_hst, show_psf=True)\n",
    "scarlet2.plot.observation(obs_hsc, norm=norm_hsc, sky_coords=pixel_hsc, show_psf=True);"
   ]
  },
  {
   "cell_type": "markdown",
   "id": "e6709450d1d6e677",
   "metadata": {},
   "source": [
    "## Initialize sources from multiple observations"
   ]
  },
  {
   "cell_type": "code",
   "execution_count": null,
   "id": "31c326b5-a5ca-494b-9bf7-706e3ede149b",
   "metadata": {},
   "outputs": [],
   "source": [
    "import scarlet2.init as init\n",
    "\n",
    "with scarlet2.Scene(model_frame) as scene:\n",
    "    for i, center in enumerate(ra_dec):\n",
    "        try:\n",
    "            spectrum, morph = init.from_gaussian_moments([obs_hst, obs_hsc], center, min_corr=0.99)\n",
    "        except ValueError:\n",
    "            spectrum = init.pixel_spectrum([obs_hst, obs_hsc], center)\n",
    "            morph = init.compact_morphology()\n",
    "        scarlet2.Source(center, spectrum, morph)"
   ]
  },
  {
   "cell_type": "code",
   "execution_count": null,
   "id": "9df20ea2790196a2",
   "metadata": {},
   "outputs": [],
   "source": [
    "scarlet2.plot.scene(\n",
    "    scene, observation=obs_hsc, show_rendered=True, show_observed=True, show_residual=True, norm=norm_hsc\n",
    ")\n",
    "scarlet2.plot.scene(\n",
    "    scene,\n",
    "    observation=obs_hst,\n",
    "    show_rendered=True,\n",
    "    show_observed=True,\n",
    "    show_residual=True,\n",
    "    norm=norm_hst,\n",
    "    label_kwargs={\"color\": \"red\"},\n",
    ");"
   ]
  },
  {
   "cell_type": "markdown",
   "id": "5765f3385e73e562",
   "metadata": {},
   "source": [
    "## Fit with multiple observations"
   ]
  },
  {
   "cell_type": "markdown",
   "id": "6rQcrodX0g3V",
   "metadata": {
    "id": "6rQcrodX0g3V"
   },
   "source": [
    "The definition of the parameters does not change:"
   ]
  },
  {
   "cell_type": "code",
   "execution_count": null,
   "id": "8e1ae1b6",
   "metadata": {},
   "outputs": [],
   "source": [
    "from numpyro.distributions import constraints\n",
    "from functools import partial\n",
    "from scarlet2.module import relative_step\n",
    "\n",
    "spec_step = partial(relative_step, factor=0.05)\n",
    "morph_step = partial(relative_step, factor=1e-3)\n",
    "\n",
    "parameters = scene.make_parameters()\n",
    "for i in range(len(scene.sources)):\n",
    "    parameters += scarlet2.Parameter(\n",
    "        scene.sources[i].spectrum, name=f\"spectrum.{i}\", constraint=constraints.positive, stepsize=spec_step\n",
    "    )\n",
    "    parameters += scarlet2.Parameter(\n",
    "        scene.sources[i].morphology,\n",
    "        name=f\"morph.{i}\",\n",
    "        constraint=constraints.unit_interval,\n",
    "        stepsize=morph_step,\n",
    "    )"
   ]
  },
  {
   "cell_type": "markdown",
   "id": "81bb89a6412b8ce8",
   "metadata": {},
   "source": [
    " But the inital linear solver for the spectrum amplitudes and the fitting method receive lists of observations now:"
   ]
  },
  {
   "cell_type": "code",
   "execution_count": null,
   "id": "iwq3MApn0CEx",
   "metadata": {},
   "outputs": [],
   "source": [
    "# scene.set_spectra_to_match([obs_hsc, obs_hst], parameters)\n",
    "scene_ = scene.fit([obs_hst, obs_hsc], parameters, max_iter=50, progress_bar=True)"
   ]
  },
  {
   "cell_type": "markdown",
   "id": "cea96264-b30f-47ae-a4e6-5957eccf573d",
   "metadata": {},
   "source": [
    "The result of this operation is a much more accurate model for both observations (although it could use a few more iterations):"
   ]
  },
  {
   "cell_type": "code",
   "execution_count": null,
   "id": "940018a8-ca51-440e-8b54-bfb425e4a2c7",
   "metadata": {},
   "outputs": [],
   "source": [
    "scarlet2.plot.scene(\n",
    "    scene_,\n",
    "    observation=obs_hsc,\n",
    "    show_rendered=True,\n",
    "    show_observed=True,\n",
    "    show_residual=True,\n",
    "    add_labels=True,\n",
    "    add_boxes=True,\n",
    "    norm=norm_hsc,\n",
    ")\n",
    "scarlet2.plot.scene(\n",
    "    scene_,\n",
    "    observation=obs_hst,\n",
    "    show_rendered=True,\n",
    "    show_observed=True,\n",
    "    show_residual=True,\n",
    "    add_labels=True,\n",
    "    add_boxes=True,\n",
    "    norm=norm_hst,\n",
    "    box_kwargs={\"edgecolor\": \"red\", \"facecolor\": \"none\"},\n",
    "    label_kwargs={\"color\": \"red\"},\n",
    ");"
   ]
  }
 ],
 "metadata": {
  "language_info": {
   "name": "python"
  }
 },
 "nbformat": 4,
 "nbformat_minor": 5
}
