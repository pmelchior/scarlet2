{
 "cells": [
  {
   "cell_type": "code",
   "execution_count": 9,
   "id": "initial_id",
   "metadata": {
    "ExecuteTime": {
     "end_time": "2025-06-25T17:48:04.024180Z",
     "start_time": "2025-06-11T21:32:15.731246Z"
    }
   },
   "outputs": [],
   "source": [
    "from scarlet2.questionnaire.questionnaire import run_questionnaire"
   ]
  },
  {
   "cell_type": "code",
   "execution_count": 17,
   "id": "65cbb914b871acbf",
   "metadata": {
    "ExecuteTime": {
     "end_time": "2025-06-25T17:48:04.020243Z",
     "start_time": "2025-06-25T17:48:03.894962Z"
    }
   },
   "outputs": [
    {
     "data": {
      "application/vnd.jupyter.widget-view+json": {
       "model_id": "969030c5ed454ce0bbf93b0522632f37",
       "version_major": 2,
       "version_minor": 0
      },
      "text/plain": [
       "VBox(children=(HBox(children=(VBox(children=(HTML(value='<b>Single resolution data or multi-resolution imaging…"
      ]
     },
     "metadata": {},
     "output_type": "display_data"
    }
   ],
   "source": [
    "run_questionnaire()"
   ]
  },
  {
   "cell_type": "markdown",
   "id": "9d881fe4-e9ce-4526-9fb0-7a6942ce4deb",
   "metadata": {},
   "source": [
    "observations = []\n",
    "for i, data in enumerate(datasets):\n",
    "\tobservations.append(\n",
    "\t\tscarlet2.Observation(data,\n",
    "                             wcs=wcs_list[i],\n",
    "                             psf=scarlet2.ArrayPSF(psf_data),\n",
    "                             channels=channels,\n",
    "                             weights=obs_weights\n",
    "                             )\n",
    "                        )"
   ]
  }
 ],
 "metadata": {
  "kernelspec": {
   "display_name": "Python 3 (ipykernel)",
   "language": "python",
   "name": "python3"
  },
  "language_info": {
   "codemirror_mode": {
    "name": "ipython",
    "version": 3
   },
   "file_extension": ".py",
   "mimetype": "text/x-python",
   "name": "python",
   "nbconvert_exporter": "python",
   "pygments_lexer": "ipython3",
   "version": "3.12.6"
  }
 },
 "nbformat": 4,
 "nbformat_minor": 5
}
