{
 "cells": [
  {
   "cell_type": "code",
   "execution_count": 1,
   "id": "initial_id",
   "metadata": {
    "ExecuteTime": {
     "end_time": "2025-08-01T20:10:01.290246Z",
     "start_time": "2025-08-01T20:09:59.944788Z"
    }
   },
   "outputs": [],
   "source": [
    "from scarlet2.questionnaire.questionnaire import run_questionnaire"
   ]
  },
  {
   "cell_type": "code",
   "execution_count": 19,
   "id": "65cbb914b871acbf",
   "metadata": {
    "ExecuteTime": {
     "end_time": "2025-08-01T20:10:01.374967Z",
     "start_time": "2025-08-01T20:10:01.296871Z"
    }
   },
   "outputs": [
    {
     "data": {
      "application/vnd.jupyter.widget-view+json": {
       "model_id": "c658a3eb46684c0b8c0ce5bc0ce0f14b",
       "version_major": 2,
       "version_minor": 0
      },
      "text/plain": [
       "VBox(children=(HBox(children=(VBox(children=(HTML(value='<b>Do you have a single image, or multiple images?</b…"
      ]
     },
     "metadata": {},
     "output_type": "display_data"
    }
   ],
   "source": [
    "run_questionnaire()"
   ]
  },
  {
   "cell_type": "code",
   "execution_count": 17,
   "id": "8b29f75025e5897",
   "metadata": {},
   "outputs": [
    {
     "data": {
      "application/vnd.jupyter.widget-view+json": {
       "model_id": "6137c48cc5434d368f4b8db349da4795",
       "version_major": 2,
       "version_minor": 0
      },
      "text/plain": [
       "VBox(children=(HBox(children=(VBox(children=(HTML(value='<b>Do you have a single image, or multiple images?</b…"
      ]
     },
     "metadata": {},
     "output_type": "display_data"
    }
   ],
   "source": [
    "run_questionnaire()"
   ]
  },
  {
   "cell_type": "code",
   "execution_count": null,
   "id": "d263dbef-e54b-468a-bcec-8906776fcce0",
   "metadata": {},
   "outputs": [],
   "source": []
  }
 ],
 "metadata": {
  "kernelspec": {
   "display_name": "Python 3 (ipykernel)",
   "language": "python",
   "name": "python3"
  },
  "language_info": {
   "codemirror_mode": {
    "name": "ipython",
    "version": 3
   },
   "file_extension": ".py",
   "mimetype": "text/x-python",
   "name": "python",
   "nbconvert_exporter": "python",
   "pygments_lexer": "ipython3",
   "version": "3.12.6"
  }
 },
 "nbformat": 4,
 "nbformat_minor": 5
}
