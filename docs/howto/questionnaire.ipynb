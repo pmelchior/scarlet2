{
 "cells": [
  {
   "cell_type": "code",
   "execution_count": 1,
   "id": "initial_id",
   "metadata": {
    "ExecuteTime": {
     "end_time": "2025-07-23T16:10:19.534700Z",
     "start_time": "2025-07-23T16:10:14.354381Z"
    }
   },
   "outputs": [],
   "source": [
    "from scarlet2.questionnaire.questionnaire import run_questionnaire"
   ]
  },
  {
   "cell_type": "code",
   "execution_count": 9,
   "id": "65cbb914b871acbf",
   "metadata": {
    "ExecuteTime": {
     "end_time": "2025-07-23T16:12:55.204278Z",
     "start_time": "2025-07-23T16:12:55.179444Z"
    }
   },
   "outputs": [
    {
     "data": {
      "application/vnd.jupyter.widget-view+json": {
       "model_id": "f7ca818fd45f445993371b4bb9ef9bc2",
       "version_major": 2,
       "version_minor": 0
      },
      "text/plain": [
       "VBox(children=(HBox(children=(VBox(children=(HTML(value='<b>Do you have a single image, or multiple images?</b…"
      ]
     },
     "metadata": {},
     "output_type": "display_data"
    }
   ],
   "source": [
    "run_questionnaire()"
   ]
  },
  {
   "cell_type": "code",
   "execution_count": null,
   "id": "8b29f75025e5897",
   "metadata": {},
   "outputs": [],
   "source": []
  }
 ],
 "metadata": {
  "kernelspec": {
   "display_name": "Python 3 (ipykernel)",
   "language": "python",
   "name": "python3"
  },
  "language_info": {
   "codemirror_mode": {
    "name": "ipython",
    "version": 3
   },
   "file_extension": ".py",
   "mimetype": "text/x-python",
   "name": "python",
   "nbconvert_exporter": "python",
   "pygments_lexer": "ipython3",
   "version": "3.12.6"
  }
 },
 "nbformat": 4,
 "nbformat_minor": 5
}
