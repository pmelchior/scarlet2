{
 "cells": [
  {
   "cell_type": "code",
   "execution_count": 1,
   "id": "initial_id",
   "metadata": {
    "ExecuteTime": {
     "end_time": "2025-06-11T21:32:17.165513Z",
     "start_time": "2025-06-11T21:32:15.731246Z"
    }
   },
   "outputs": [],
   "source": [
    "from scarlet2.questionnaire.questionnaire import run_questionnaire"
   ]
  },
  {
   "cell_type": "code",
   "execution_count": 3,
   "id": "65cbb914b871acbf",
   "metadata": {
    "ExecuteTime": {
     "end_time": "2025-06-11T21:32:17.187307Z",
     "start_time": "2025-06-11T21:32:17.177975Z"
    }
   },
   "outputs": [
    {
     "data": {
      "application/vnd.jupyter.widget-view+json": {
       "model_id": "719c084bc0f847e2a73226760baca1a6",
       "version_major": 2,
       "version_minor": 0
      },
      "text/plain": [
       "VBox(children=(HBox(children=(VBox(children=(HTML(value='<b>What type of analysis do you want to perform?</b>'…"
      ]
     },
     "metadata": {},
     "output_type": "display_data"
    }
   ],
   "source": [
    "run_questionnaire()"
   ]
  },
  {
   "cell_type": "code",
   "execution_count": null,
   "id": "ed66828051dc9e6c",
   "metadata": {},
   "outputs": [],
   "source": []
  }
 ],
 "metadata": {
  "kernelspec": {
   "display_name": "Python 3 (ipykernel)",
   "language": "python",
   "name": "python3"
  },
  "language_info": {
   "codemirror_mode": {
    "name": "ipython",
    "version": 3
   },
   "file_extension": ".py",
   "mimetype": "text/x-python",
   "name": "python",
   "nbconvert_exporter": "python",
   "pygments_lexer": "ipython3",
   "version": "3.12.6"
  }
 },
 "nbformat": 4,
 "nbformat_minor": 5
}
