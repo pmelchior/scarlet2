{
 "cells": [
  {
   "cell_type": "code",
   "id": "initial_id",
   "metadata": {
    "ExecuteTime": {
     "end_time": "2025-07-17T19:25:04.123678Z",
     "start_time": "2025-07-17T19:25:02.938739Z"
    }
   },
   "source": [
    "from scarlet2.questionnaire.questionnaire import run_questionnaire"
   ],
   "outputs": [],
   "execution_count": 1
  },
  {
   "cell_type": "code",
   "id": "65cbb914b871acbf",
   "metadata": {
    "ExecuteTime": {
     "end_time": "2025-07-17T19:25:04.742541Z",
     "start_time": "2025-07-17T19:25:04.711486Z"
    }
   },
   "source": [
    "run_questionnaire()"
   ],
   "outputs": [
    {
     "data": {
      "text/plain": [
       "VBox(children=(HBox(children=(VBox(children=(HTML(value='<b>Single resolution data or multi-resolution imaging…"
      ],
      "application/vnd.jupyter.widget-view+json": {
       "version_major": 2,
       "version_minor": 0,
       "model_id": "f7eedc31e3724fa683d3b367d9dfe4c4"
      }
     },
     "metadata": {},
     "output_type": "display_data"
    }
   ],
   "execution_count": 2
  },
  {
   "cell_type": "markdown",
   "id": "9d881fe4-e9ce-4526-9fb0-7a6942ce4deb",
   "metadata": {},
   "source": [
    "observations = []\n",
    "for i, data in enumerate(datasets):\n",
    "\tobservations.append(\n",
    "\t\tscarlet2.Observation(data,\n",
    "                             wcs=wcs_list[i],\n",
    "                             psf=scarlet2.ArrayPSF(psf_data),\n",
    "                             channels=channels,\n",
    "                             weights=obs_weights\n",
    "                             )\n",
    "                        )"
   ]
  }
 ],
 "metadata": {
  "kernelspec": {
   "display_name": "Python 3 (ipykernel)",
   "language": "python",
   "name": "python3"
  },
  "language_info": {
   "codemirror_mode": {
    "name": "ipython",
    "version": 3
   },
   "file_extension": ".py",
   "mimetype": "text/x-python",
   "name": "python",
   "nbconvert_exporter": "python",
   "pygments_lexer": "ipython3",
   "version": "3.12.6"
  }
 },
 "nbformat": 4,
 "nbformat_minor": 5
}
