{
 "cells": [
  {
   "cell_type": "markdown",
   "id": "e00bde47-7577-427e-a0bb-3b4f6b5923ac",
   "metadata": {},
   "source": [
    "# Fit Multiple Observations\n",
    "\n",
    "This tutorial shows how to model sources from images observed in different ways, which could mean images taken with the same instrument but different pointings and PSFs, or with different instruments. For this guide we will use a multi-band observation from the Hyper-Suprime Cam (HSC) and a single high-resolution image from the Hubble Space Telescope (HST)."
   ]
  },
  {
   "cell_type": "code",
   "execution_count": null,
   "id": "28eb2f83-3250-4222-ab9c-bfcfa4bab2ff",
   "metadata": {
    "id": "28eb2f83-3250-4222-ab9c-bfcfa4bab2ff"
   },
   "outputs": [],
   "source": [
    "import astropy.io.fits as fits\n",
    "import jax\n",
    "import jax.numpy as jnp\n",
    "# Import Packages and setup\n",
    "import numpy as np\n",
    "from astropy.wcs import WCS\n",
    "from astropy.table import Table\n",
    "from astropy.coordinates import SkyCoord\n",
    "import astropy.units as u\n",
    "\n",
    "import scarlet2"
   ]
  },
  {
   "cell_type": "markdown",
   "id": "f3bebc3f-e085-456d-b22a-843755b2524a",
   "metadata": {
    "id": "f3bebc3f-e085-456d-b22a-843755b2524a"
   },
   "source": [
    "## Load Data\n",
    "\n",
    "We first load the HSC and HST images, PSFs and precomputeed weight/variance maps. We also load a catalog of sources detected jointly from the observations (see [here](https://github.com/astro-data-lab/scarlet-test-data/blob/main/scarlet_test_data/data/multiresolution_tutorial/get_source_catalog.py) for details on how this catalog was created)."
   ]
  },
  {
   "cell_type": "code",
   "execution_count": null,
   "id": "64e03d6d-11d8-40a5-be5e-edf8b3f2ed03",
   "metadata": {},
   "outputs": [],
   "source": [
    "# Installing data package if not already installed\n",
    "from scarlet2.utils import import_scarlet_test_data\n",
    "\n",
    "import_scarlet_test_data()\n",
    "from scarlet_test_data import data_path\n",
    "import os\n",
    "\n",
    "with fits.open(os.path.join(data_path, 'multiresolution_tutorial', 'multiresolution_tutorial_data.fits')) as hdul:\n",
    "    # Load HSC observation\n",
    "    data_hsc = np.array(hdul['HSC_OBS'].data, np.float32)\n",
    "    wcs_hsc = WCS(hdul['HSC_OBS'].header)\n",
    "\n",
    "    # Load HSC PSF and weights\n",
    "    psf_hsc_data = np.array(hdul['HSC_PSF'].data, np.float32)\n",
    "    obs_hsc_weights = np.array(hdul['HSC_WEIGHTS'].data, np.float32)\n",
    "\n",
    "    # Load HST observation\n",
    "    data_hst = np.array(hdul['HST_OBS'].data, np.float32)\n",
    "    wcs_hst = WCS(hdul['HST_OBS'].header)\n",
    "\n",
    "    # Load HST PSF and weights\n",
    "    psf_hst_data = np.array(hdul['HST_PSF'].data, np.float32)\n",
    "    obs_hst_weights = np.array(hdul['HST_WEIGHTS'].data, np.float32)\n",
    "\n",
    "    # Load catalog table and metadata\n",
    "    coords_table = Table(hdul['CATALOG'].data)\n",
    "    radecsys = hdul['CATALOG'].header['RADECSYS']\n",
    "    equinox = hdul['CATALOG'].header['EQUINOX']"
   ]
  },
  {
   "cell_type": "code",
   "execution_count": null,
   "id": "8117d084-f52a-4832-890b-bb9549ba1b4e",
   "metadata": {},
   "outputs": [],
   "source": [
    "# Write sources coordinates in SkyCoord\n",
    "ra_dec = SkyCoord(ra=coords_table['RA'] * u.deg,\n",
    "                  dec=coords_table['DEC'] * u.deg,\n",
    "                  frame=radecsys.lower(),\n",
    "                  equinox=f'J{equinox}')"
   ]
  },
  {
   "cell_type": "markdown",
   "id": "f132eb6e-395a-4308-a552-66f7e3b837e2",
   "metadata": {},
   "source": [
    "## Create Frame and Observations\n",
    "\n",
    "We have two different instruments with different pixel resolutions, so we need two different observations. Since the HST image is at a much higher resolution, we define our model `Frame` to use the HST PSF and the HST resolution. The high resolution and low resolution `Observation` are then matched to the model frame, to define the renderering operation. "
   ]
  },
  {
   "cell_type": "code",
   "execution_count": null,
   "id": "131dcc7b-f5ff-4ad8-b574-ef0d56da4312",
   "metadata": {},
   "outputs": [],
   "source": [
    "# Scarlet Observations\n",
    "obs_hst = scarlet2.Observation(data_hst,\n",
    "                               wcs=wcs_hst,\n",
    "                               psf=scarlet2.ArrayPSF(psf_hst_data),\n",
    "                               channels=['F814W'],\n",
    "                               weights=obs_hst_weights)\n",
    "\n",
    "obs_hsc = scarlet2.Observation(data_hsc,\n",
    "                               wcs=wcs_hsc,\n",
    "                               psf=scarlet2.ArrayPSF(psf_hsc_data),\n",
    "                               channels=['g', 'r', 'i', 'z', 'y'],\n",
    "                               weights=obs_hsc_weights)"
   ]
  },
  {
   "cell_type": "markdown",
   "id": "17c8b119-497d-4be0-b75c-c514a72836cc",
   "metadata": {},
   "source": [
    "Define the model frame by the union (or intersection) of the observation frames."
   ]
  },
  {
   "cell_type": "code",
   "execution_count": null,
   "id": "b0f316c6",
   "metadata": {
    "colab": {
     "base_uri": "https://localhost:8080/",
     "height": 1000
    },
    "id": "b0f316c6",
    "outputId": "020b1350-1c74-46f7-9d02-9003de27b113"
   },
   "outputs": [],
   "source": [
    "model_frame = scarlet2.Frame.from_observations(\n",
    "    observations=[obs_hst, obs_hsc],\n",
    "    coverage=\"union\"  # or \"intersection\"\n",
    ")"
   ]
  },
  {
   "cell_type": "markdown",
   "id": "abb5bbf9-0eb7-4c37-bb55-43904ec6af48",
   "metadata": {
    "id": "abb5bbf9-0eb7-4c37-bb55-43904ec6af48"
   },
   "source": [
    "Finally we can visualize the detections for the multi-band HSC and single-band HST images in their native resolutions:"
   ]
  },
  {
   "cell_type": "code",
   "execution_count": null,
   "id": "9d50ffdd-147b-4142-a3e5-b0c278283fb8",
   "metadata": {
    "id": "95a0833d"
   },
   "outputs": [],
   "source": [
    "norm_hst = scarlet2.plot.AsinhAutomaticNorm(obs_hst)\n",
    "norm_hsc = scarlet2.plot.AsinhAutomaticNorm(obs_hsc)\n",
    "\n",
    "# Convert catalog sky coordinates to observation frames coordinates\n",
    "\n",
    "# Convert to HST pixels\n",
    "pixel_hst = obs_hst.frame.get_pixel(ra_dec)\n",
    "\n",
    "# Convert to HSC pixels\n",
    "pixel_hsc = obs_hsc.frame.get_pixel(ra_dec)\n",
    "\n",
    "scarlet2.plot.observation(obs_hst, norm=norm_hst, sky_coords=pixel_hst, show_psf=True);\n",
    "scarlet2.plot.observation(obs_hsc, norm=norm_hsc, sky_coords=pixel_hsc, show_psf=True);"
   ]
  },
  {
   "cell_type": "markdown",
   "id": "e6709450d1d6e677",
   "metadata": {},
   "source": [
    "## Initialize sources from multiple observations"
   ]
  },
  {
   "cell_type": "code",
   "execution_count": null,
   "id": "31c326b5-a5ca-494b-9bf7-706e3ede149b",
   "metadata": {},
   "outputs": [],
   "source": [
    "import scarlet2.init as init\n",
    "\n",
    "with scarlet2.Scene(model_frame) as scene:\n",
    "    for i, center in enumerate(ra_dec):\n",
    "        try:\n",
    "            spectrum, morph = init.from_gaussian_moments([obs_hst, obs_hsc], center, min_corr=0.99)\n",
    "        except ValueError:\n",
    "            spectrum = init.pixel_spectrum([obs_hst, obs_hsc], center)\n",
    "            morph = init.compact_morphology()\n",
    "        scarlet2.Source(center, spectrum, morph)"
   ]
  },
  {
   "cell_type": "code",
   "execution_count": null,
   "id": "9df20ea2790196a2",
   "metadata": {},
   "outputs": [],
   "source": [
    "scarlet2.plot.scene(scene,\n",
    "                    observation=obs_hsc,\n",
    "                    show_rendered=True,\n",
    "                    show_observed=True,\n",
    "                    show_residual=True,\n",
    "                    norm=norm_hsc);\n",
    "scarlet2.plot.scene(scene,\n",
    "                    observation=obs_hst,\n",
    "                    show_rendered=True,\n",
    "                    show_observed=True,\n",
    "                    show_residual=True,\n",
    "                    norm=norm_hst,\n",
    "                    label_kwargs={'color': 'red'});"
   ]
  },
  {
   "cell_type": "markdown",
   "id": "5765f3385e73e562",
   "metadata": {},
   "source": [
    "## Fit with multiple observations"
   ]
  },
  {
   "cell_type": "markdown",
   "id": "6rQcrodX0g3V",
   "metadata": {
    "id": "6rQcrodX0g3V"
   },
   "source": [
    "The definition of the parameters does not change:"
   ]
  },
  {
   "cell_type": "code",
   "execution_count": null,
   "id": "8e1ae1b6",
   "metadata": {
    "id": "8e1ae1b6"
   },
   "outputs": [],
   "source": [
    "from numpyro.distributions import constraints\n",
    "from functools import partial\n",
    "from scarlet2.module import relative_step\n",
    "\n",
    "spec_step = partial(relative_step, factor=0.05)\n",
    "morph_step = partial(relative_step, factor=1e-3)\n",
    "\n",
    "parameters = scene.make_parameters()\n",
    "for i in range(len(scene.sources)):\n",
    "    parameters += scarlet2.Parameter(scene.sources[i].spectrum,\n",
    "                                     name=f\"spectrum.{i}\",\n",
    "                                     constraint=constraints.positive,\n",
    "                                     stepsize=spec_step)\n",
    "    parameters += scarlet2.Parameter(scene.sources[i].morphology,\n",
    "                                     name=f\"morph.{i}\",\n",
    "                                     constraint=constraints.unit_interval,\n",
    "                                     stepsize=morph_step)"
   ]
  },
  {
   "cell_type": "markdown",
   "id": "81bb89a6412b8ce8",
   "metadata": {},
   "source": [
    " But the inital linear solver for the spectrum amplitudes and the fitting method receive lists of observations now:"
   ]
  },
  {
   "cell_type": "code",
   "execution_count": null,
   "id": "iwq3MApn0CEx",
   "metadata": {
    "id": "iwq3MApn0CEx"
   },
   "outputs": [],
   "source": [
    "scene.set_spectra_to_match([obs_hsc, obs_hst], parameters)\n",
    "scene_ = scene.fit([obs_hsc, obs_hst], parameters, max_iter=200, progress_bar=False)"
   ]
  },
  {
   "cell_type": "markdown",
   "id": "cea96264-b30f-47ae-a4e6-5957eccf573d",
   "metadata": {},
   "source": [
    "The result of this operation is a much more accurate model for both observations (although it could use a few more iterations):"
   ]
  },
  {
   "cell_type": "code",
   "execution_count": null,
   "id": "940018a8-ca51-440e-8b54-bfb425e4a2c7",
   "metadata": {},
   "outputs": [],
   "source": [
    "scarlet2.plot.scene(scene_,\n",
    "                    observation=obs_hsc,\n",
    "                    show_rendered=True,\n",
    "                    show_observed=True,\n",
    "                    show_residual=True,\n",
    "                    add_labels=True,\n",
    "                    add_boxes=True,\n",
    "                    norm=norm_hsc);\n",
    "scarlet2.plot.scene(scene_,\n",
    "                    observation=obs_hst,\n",
    "                    show_rendered=True,\n",
    "                    show_observed=True,\n",
    "                    show_residual=True,\n",
    "                    add_labels=True,\n",
    "                    add_boxes=True,\n",
    "                    norm=norm_hst,\n",
    "                    box_kwargs={'edgecolor': 'red', 'facecolor': 'none'},\n",
    "                    label_kwargs={'color': 'red'});"
   ]
  }
 ],
 "metadata": {
  "accelerator": "GPU",
  "colab": {
   "gpuType": "L4",
   "machine_shape": "hm",
   "provenance": []
  },
  "kernelspec": {
   "display_name": "galsim",
   "language": "python",
   "name": "galsim"
  },
  "language_info": {
   "codemirror_mode": {
    "name": "ipython",
    "version": 3
   },
   "file_extension": ".py",
   "mimetype": "text/x-python",
   "name": "python",
   "nbconvert_exporter": "python",
   "pygments_lexer": "ipython3",
   "version": "3.9.18"
  }
 },
 "nbformat": 4,
 "nbformat_minor": 5
}
