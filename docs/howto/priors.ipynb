{
 "cells": [
  {
   "cell_type": "markdown",
   "metadata": {},
   "source": [
    "# Use Neural Priors\n",
    "\n",
    "In [the sampling tutorial](sampling), we have demonstrated how to define parameters with priors.\n",
    "This guide shows you how to set up and use neural network priors.\n",
    "We make use of the related package [`galaxygrad`](https://github.com/SampsonML/galaxygrad), which can be pip-installed.\n",
    "\n",
    "This guide will follow the [Quick Start Guide](../0-quickstart), with changes in the initialization and parameter specification. We assume that you have a full installation of _scarlet2_ including `optax`, `numpyro`, `h5py` and `galaxygrad`.\n",
    "\n",
    "More details about the use of a score-based prior model for diffusion can be found in the paper [\"Score-matching neural networks for improved multi-band source separation\", Sampson et al., 2024, A&C, 49, 100875](http://ui.adsabs.harvard.edu/abs/2024A&C....4900875S)."
   ]
  },
  {
   "cell_type": "code",
   "metadata": {},
   "source": [
    "# Import Packages and setup\n",
    "import jax.numpy as jnp\n",
    "import matplotlib.pyplot as plt\n",
    "\n",
    "from scarlet2 import *"
   ],
   "outputs": [],
   "execution_count": null
  },
  {
   "cell_type": "markdown",
   "metadata": {},
   "source": [
    "## Create Observation\n",
    "\n",
    "Again we import the test data and create the observation:"
   ]
  },
  {
   "cell_type": "code",
   "source": [
    "from huggingface_hub import hf_hub_download\n",
    "\n",
    "filename = hf_hub_download(repo_id=\"astro-data-lab/scarlet-test-data\", filename=\"hsc_cosmos_35.npz\",\n",
    "                           repo_type=\"dataset\")\n",
    "file = jnp.load(filename)\n",
    "data = jnp.asarray(file[\"images\"])\n",
    "channels = [str(f) for f in file['filters']]\n",
    "centers = jnp.array([(src['y'], src['x']) for src in file[\"catalog\"]])\n",
    "weights = jnp.asarray(1 / file[\"variance\"])\n",
    "psf = jnp.asarray(file[\"psfs\"])\n",
    "\n",
    "# create the observation\n",
    "obs = Observation(data,\n",
    "                  weights,\n",
    "                  psf=ArrayPSF(psf),\n",
    "                  channels=channels,\n",
    "                  )\n",
    "model_frame = Frame.from_observations(obs)"
   ],
   "metadata": {
    "collapsed": false
   },
   "outputs": [],
   "execution_count": null
  },
  {
   "cell_type": "markdown",
   "metadata": {},
   "source": [
    "## Initialize Sources"
   ]
  },
  {
   "cell_type": "code",
   "metadata": {
    "collapsed": false
   },
   "source": [
    "with Scene(model_frame) as scene:\n",
    "    for i, center in enumerate(centers):\n",
    "        if i == 0:  # we know source 0 is a star\n",
    "            spectrum = init.pixel_spectrum(obs, center, correct_psf=True)\n",
    "            PointSource(center, spectrum)\n",
    "        else:\n",
    "            try:\n",
    "                spectrum, morph = init.from_gaussian_moments(obs, center, min_corr=0.99)\n",
    "            except ValueError:\n",
    "                spectrum = init.pixel_spectrum(obs, center)\n",
    "                morph = init.compact_morphology()\n",
    "\n",
    "            Source(center, spectrum, morph)"
   ],
   "outputs": [],
   "execution_count": null
  },
  {
   "cell_type": "markdown",
   "metadata": {},
   "source": [
    "## Load Neural Prior"
   ]
  },
  {
   "cell_type": "code",
   "metadata": {},
   "source": [
    "# load in the model you wish to use\n",
    "from galaxygrad import get_prior\n",
    "from scarlet2.nn import ScorePrior\n",
    "\n",
    "# instantiate the prior class\n",
    "temp = 2e-2  # values in the range of [1e-3, 1e-1] produce good results\n",
    "prior32 = get_prior('hsc32')\n",
    "prior64 = get_prior('hsc64')\n"
    "prior32 = ScorePrior(prior32, prior32.shape(), t=temp)\n",
    "prior64 = ScorePrior(prior64, prior64.shape(), t=temp)"
   ],
   "outputs": [],
   "execution_count": null
  },
  {
   "cell_type": "markdown",
   "metadata": {},
   "source": [
    "The prior model itself is in the form of a score-based diffusion model, which matches the score function, i.e. the gradient of the log-likelihood of the training data with respect to the parameters. For an image-based parameterization, the free parameters are the pixels, which means the gradient has the same shape as the image. `galaxygrad` provides several pre-trained models, here we use a prior that was trained on deblended isolate source in HSC data, with the shapes of 32x32 or 64x64, respectively. These sizes denote the maximum image size for which the prior is trained.\n",
    "\n",
    "We import {py:class}`~scarlet2.nn.ScorePrior` to use with our prior. It automatically zero-pads any smaller image array up to the specified size and provides a custom gradient path that calls the underlying score model during optimization or HMC sampling. The `temp` argument refers to a fixed temperature for the diffusion process. For speed, we run a single diffusion step with the given temperature."
   ]
  },
  {
   "cell_type": "markdown",
   "metadata": {
    "collapsed": false
   },
   "source": [
    "## Define Parameters with Prior\n",
    "\n",
    "We use the same fitting routine as in the Quickstart guide, but replace `contraints.positive` with `prior=prior` in the Parameter containing the source morphologies. It is also useful to reduce the step size for the morphology updates because large jumps can lead to unstable prior gradients."
   ]
  },
  {
   "cell_type": "code",
   "metadata": {
    "collapsed": false
   },
   "source": [
    "from functools import partial\n",
    "from numpyro.distributions import constraints\n",
    "\n",
    "spec_step = partial(relative_step, factor=0.05)\n",
    "morph_step = partial(relative_step, factor=1e-3)\n",
    "\n",
    "parameters = scene.make_parameters()\n",
    "for i in range(len(scene.sources)):\n",
    "    parameters += Parameter(scene.sources[i].spectrum,\n",
    "                            name=f\"spectrum:{i}\",\n",
    "                            constraint=constraints.positive,\n",
    "                            stepsize=spec_step)\n",
    "    if i == 0:\n",
    "        parameters += Parameter(scene.sources[i].center,\n",
    "                                name=f\"center:{i}\",\n",
    "                                stepsize=0.1)\n",
    "    else:\n",
    "        # chose a prior of suitable size\n",
    "        prior = prior32 if max(scene.sources[i].morphology.shape) <= 32 else prior64\n",
    "        parameters += Parameter(scene.sources[i].morphology,\n",
    "                                name=f\"morph:{i}\",\n",
    "                                prior=prior,  # attach the prior here\n",
    "                                stepsize=morph_step)"
   ],
   "outputs": [],
   "execution_count": null
  },
  {
   "cell_type": "markdown",
   "metadata": {},
   "source": [
    "Note that the use of a `prior` is incompatible with the use of a `constraint`."
   ]
  },
  {
   "cell_type": "markdown",
   "metadata": {
    "collapsed": false
   },
   "source": [
    "We again perform the fitting:"
   ]
  },
  {
   "cell_type": "code",
   "metadata": {},
   "source": [
    "maxiter = 1000\n",
    "print(\"Initial likelihood:\", obs.log_likelihood(scene()))\n",
    "scene.set_spectra_to_match(obs, parameters)\n",
    "scene_ = scene.fit(obs, parameters, max_iter=maxiter, e_rel=1e-3, progress_bar=False)\n",
    "print(\"Optimized likelihood:\", obs.log_likelihood(scene_()))"
   ],
   "outputs": [],
   "execution_count": null
  },
  {
   "cell_type": "markdown",
   "source": "The fit reaches values quite comparable to the run with the positivity constraints in the quickstart guide.",
   "metadata": {
    "collapsed": false
   }
  },
  {
   "cell_type": "markdown",
   "metadata": {},
   "source": [
    "## Check Results"
   ]
  },
  {
   "cell_type": "code",
   "metadata": {
    "collapsed": false
   },
   "source": [
    "norm = plot.AsinhAutomaticNorm(obs)\n",
    "plot.scene(scene_,\n",
    "           obs,\n",
    "           norm=norm,\n",
    "           show_model=True,\n",
    "           show_rendered=True,\n",
    "           show_observed=True,\n",
    "           show_residual=True,\n",
    "           add_boxes=True,\n",
    "           )\n",
    "plt.show()"
   ],
   "outputs": [],
   "execution_count": null
  },
  {
   "cell_type": "code",
   "metadata": {
    "collapsed": false
   },
   "source": [
    "plot.sources(scene_,\n",
    "             norm=norm,\n",
    "             observation=obs,\n",
    "             show_model=True,\n",
    "             show_rendered=True,\n",
    "             show_observed=True,\n",
    "             show_spectrum=False,\n",
    "             add_markers=False,\n",
    "             add_boxes=True,\n",
    "             )\n",
    "plt.show()"
   ],
   "outputs": [],
   "execution_count": null
  },
  {
   "cell_type": "markdown",
   "metadata": {},
   "source": "The results for most of the galaxies look very reasonable now, in particular for the fainter ones. They remain compact and not overly affected by noise. Source #1 has minor artifacts and picks up neighboring objects, indicating that this prior has not been trained (yet) on as many larger galaxies and is therefore still somewhat weak. An update will fix this soon."
  }
 ],
 "metadata": {
  "celltoolbar": "Raw Cell Format",
  "kernelspec": {
   "display_name": "Python 3 (ipykernel)",
   "language": "python",
   "name": "python3"
  },
  "language_info": {
   "codemirror_mode": {
    "name": "ipython",
    "version": 3
   },
   "file_extension": ".py",
   "mimetype": "text/x-python",
   "name": "python",
   "nbconvert_exporter": "python",
   "pygments_lexer": "ipython3",
   "version": "3.12.1"
  }
 },
 "nbformat": 4,
 "nbformat_minor": 4
}
