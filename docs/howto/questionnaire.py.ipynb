{
 "cells": [
  {
   "cell_type": "code",
   "execution_count": 1,
   "id": "initial_id",
   "metadata": {
    "ExecuteTime": {
     "start_time": "2025-08-13T17:19:51.528275Z"
    }
   },
   "outputs": [],
   "source": [
    "from scarlet2.questionnaire.questionnaire import *"
   ]
  },
  {
   "cell_type": "markdown",
   "id": "4939b539-bf18-4410-af1b-6c2a8bbe8447",
   "metadata": {},
   "source": [
    "### questions = load_questions()\n",
    "app = QuestionnaireWidget(questions)\n",
    "app.show()"
   ]
  },
  {
   "cell_type": "code",
   "execution_count": 3,
   "id": "35968722-967f-4e25-b091-78ac6a5e1844",
   "metadata": {},
   "outputs": [
    {
     "data": {
      "application/vnd.jupyter.widget-view+json": {
       "model_id": "8bbf512cab8c4d5b81098df1b9b078fb",
       "version_major": 2,
       "version_minor": 0
      },
      "text/plain": [
       "HBox(children=(VBox(children=(HTML(value='<b>Do you have a single image, or multiple images?</b>'), Button(des…"
      ]
     },
     "metadata": {},
     "output_type": "display_data"
    }
   ],
   "source": [
    "run_questionnaire()"
   ]
  },
  {
   "cell_type": "code",
   "execution_count": null,
   "id": "6767edce-065d-4e24-b521-000849d66c18",
   "metadata": {},
   "outputs": [],
   "source": [
    "channels=['g', 'r', 'i', 'z', 'y']\n",
    "\n",
    "obs = scarlet2.Observation( \n",
    "    jnp.array(data).astype(float), \n",
    "    weights=jnp.array(weight).astype(float), \n",
    "    psf=scarlet2.ArrayPSF(jnp.array(psf).astype(float)), \n",
    "    wcs=wcs, \n",
    "    channels=channels, \n",
    ") \n",
    "\n",
    "model_frame = scarlet2.Frame.from_observations( \n",
    "    observations=obs, \n",
    "    coverage=\"union\",  # or \"intersection\" \n",
    ") \n",
    " \n",
    "norm = scarlet2.plot.AsinhAutomaticNorm(obs) \n",
    "scarlet2.plot.observation( \n",
    "     obs, norm=norm, sky_coords=ra_dec, show_psf=True, label_kwargs={\"color\": \"red\"} \n",
    ") \n",
    " \n"
   ]
  }
 ],
 "metadata": {
  "kernelspec": {
   "display_name": "Python 3 (ipykernel)",
   "language": "python",
   "name": "python3"
  },
  "language_info": {
   "codemirror_mode": {
    "name": "ipython",
    "version": 3
   },
   "file_extension": ".py",
   "mimetype": "text/x-python",
   "name": "python",
   "nbconvert_exporter": "python",
   "pygments_lexer": "ipython3",
   "version": "3.12.6"
  }
 },
 "nbformat": 4,
 "nbformat_minor": 5
}
