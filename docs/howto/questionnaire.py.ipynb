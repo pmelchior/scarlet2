{
 "cells": [
  {
   "cell_type": "code",
   "execution_count": null,
   "id": "initial_id",
   "metadata": {
    "ExecuteTime": {
     "start_time": "2025-08-13T17:19:51.528275Z"
    }
   },
   "outputs": [],
   "source": [
    "from scarlet2.questionnaire import run_questionnaire"
   ]
  },
  {
   "cell_type": "markdown",
   "id": "4939b539-bf18-4410-af1b-6c2a8bbe8447",
   "metadata": {},
   "source": [
    "### questions = load_questions()\n",
    "app = QuestionnaireWidget(questions)\n",
    "app.show()"
   ]
  },
  {
   "cell_type": "code",
   "execution_count": null,
   "id": "35968722-967f-4e25-b091-78ac6a5e1844",
   "metadata": {},
   "outputs": [],
   "source": [
    "run_questionnaire()"
   ]
  },
  {
   "cell_type": "code",
   "execution_count": null,
   "id": "6767edce-065d-4e24-b521-000849d66c18",
   "metadata": {},
   "outputs": [],
   "source": []
  }
 ],
 "metadata": {
  "kernelspec": {
   "display_name": "Python 3 (ipykernel)",
   "language": "python",
   "name": "python3"
  },
  "language_info": {
   "codemirror_mode": {
    "name": "ipython",
    "version": 3
   },
   "file_extension": ".py",
   "mimetype": "text/x-python",
   "name": "python",
   "nbconvert_exporter": "python",
   "pygments_lexer": "ipython3",
   "version": "3.12.6"
  }
 },
 "nbformat": 4,
 "nbformat_minor": 5
}
