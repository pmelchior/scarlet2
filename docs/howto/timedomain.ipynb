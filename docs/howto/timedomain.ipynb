{
 "cells": [
  {
   "cell_type": "markdown",
   "id": "42a0ebfe-3cd3-4c8d-b898-255dab924cfe",
   "metadata": {},
   "source": [
    "# Fit Transients\n",
    "\n",
    "This guide shows how to model a series of multi-epoch images containing a transient."
   ]
  },
  {
   "cell_type": "code",
   "id": "52bd877a-18ab-4c3a-8c07-765bddabb207",
   "metadata": {},
   "source": [
    "import astropy.io.fits as fits\n",
    "# Import Packages and setup\n",
    "import jax.numpy as jnp\n",
    "import matplotlib.pyplot as plt\n",
    "from astropy.coordinates import SkyCoord\n",
    "from astropy.wcs import WCS\n",
    "\n",
    "import scarlet2"
   ],
   "outputs": [],
   "execution_count": null
  },
  {
   "cell_type": "markdown",
   "id": "3d630cbd-fee6-4b60-9687-54d7dcac46f6",
   "metadata": {},
   "source": "We will load four ZTF images, in g and r band, from before and after the appearance of the transient. To speed up the processing and fitting, we have already resampled all images and PSFs to the same wcs using swarp, so we can create one {py:class}`~scarlet2.Observation` to hold all four images:"
  },
  {
   "cell_type": "code",
   "id": "3c70e233-248c-4db5-be8e-cbcc84415d20",
   "metadata": {},
   "source": [
    "from huggingface_hub import hf_hub_download\n",
    "\n",
    "filename = hf_hub_download(repo_id=\"astro-data-lab/scarlet-test-data\",\n",
    "                           filename=\"transient_tutorial/data.fits.gz\",\n",
    "                           repo_type=\"dataset\")\n",
    "\n",
    "data = []\n",
    "weight = []\n",
    "psf = []\n",
    "channels = []\n",
    "with fits.open(filename) as hdul:\n",
    "    for i in range(4):\n",
    "        # getting observation, weights, and PFS for each epoch\n",
    "        idx = i * 3\n",
    "        header = hdul[idx].header\n",
    "        print(\"loading\", header['FILENAME'])\n",
    "        if i == 0:\n",
    "            wcs = WCS(header)\n",
    "        data.append(hdul[idx].data)\n",
    "        weight.append(hdul[idx + 1].data)\n",
    "        psf.append(hdul[idx + 2].data)\n",
    "\n",
    "        # channel: combined band and epoch identifier\n",
    "        # any labels is valid for each, e.g. timestamps\n",
    "        channels.append((header['FILTER'], i))\n",
    "\n",
    "obs = scarlet2.Observation(jnp.array(data).astype(float),\n",
    "                           weights=jnp.array(weight).astype(float),\n",
    "                           psf=scarlet2.ArrayPSF(jnp.array(psf).astype(float)),\n",
    "                           wcs=wcs,\n",
    "                           channels=channels)"
   ],
   "outputs": [],
   "execution_count": null
  },
  {
   "metadata": {},
   "cell_type": "markdown",
   "source": [
    "```{note}\n",
    "The `channel` attribute of the frame can be extended to identify different bands and epochs.\n",
    "```\n",
    "\n",
    "If we want to avoid the preprocessing step to resample and align the images (and PSFs), one can treat each image as its own {py:class}`~scarlet2.Observation` and resampling them on-the-fly (see the [multi-resolution tutorial](multiresolution) for details), but that makes the fitting much more computationally demanding.\n",
    "\n",
    "But let's look at what we have:"
   ],
   "id": "6086eb4f32efa7d7"
  },
  {
   "metadata": {},
   "cell_type": "code",
   "source": [
    "norm = scarlet2.plot.AsinhAutomaticNorm(obs)\n",
    "scarlet2.plot.observation(obs, norm=norm, add_labels=False, show_psf=True);"
   ],
   "id": "fd8801233ee97fbd",
   "outputs": [],
   "execution_count": null
  },
  {
   "metadata": {},
   "cell_type": "markdown",
   "source": [
    "This is very much a false-color image because each channel (here there are four) is interpreted as a distinct band, but we actually only have g and r-bands. Because our plotting routines assumes channels are ordered with increasing wavelength, and the transient appears in the two latter epochs ,it's visible as an excess in red in the color image above, slightly to the left of the source center. To see the channels separately, use the `split_channels` option for {py:func}`scarlet2.plot.observation`:\n",
    "\n"
   ],
   "id": "7cb7882461847f80"
  },
  {
   "metadata": {},
   "cell_type": "code",
   "source": "scarlet2.plot.observation(obs, add_labels=False, show_psf=True, split_channels=True);",
   "id": "cccca9044b9f050e",
   "outputs": [],
   "execution_count": null
  },
  {
   "metadata": {},
   "cell_type": "markdown",
   "source": [
    "## Define Transient Scene\n",
    "\n",
    "We first need to define a model frame, which covers the same sky area as the data. As the ZTF PSF is not well-sampled, we reduce the internal model PSF to a very narrow Gaussian:"
   ],
   "id": "f49f932aa38c2e59"
  },
  {
   "metadata": {},
   "cell_type": "code",
   "source": [
    "model_psf = scarlet2.GaussianPSF(sigma=0.5)\n",
    "model_frame = scarlet2.Frame.from_observations(obs, model_psf=model_psf)"
   ],
   "id": "9ae6bee200c2837b",
   "outputs": [],
   "execution_count": null
  },
  {
   "metadata": {},
   "cell_type": "markdown",
   "source": [
    "In _scarlet2_ we treat transients as sources that have independent amplitudes in every band and epoch (defined by {py:class}`~scarlet2.TransientArraySpectrum`), while static sources only have independent amplitudes in every band, i.e. their `spectrum` are shared across all epochs (implemented in {py:class}`~scarlet2.StaticArraySpectrum`). If we know that the transient is \"off\" for some epochs (e.g. pre-explosion), we can set those amplitudes to zero.\n",
    "\n",
    "As our model frame treats the channels as a combined (band, epoch) identifier, the `spectrum` attributes for every source inherit this overloaded definition. So, we need to take care to set/fit the elements of this generalized spectrum vector correctly. For that purpose, we define lookup functions (`band_selector` and `epoch_selector`), which operate on the channel information and return the band or the epoch, respectively.\n",
    "\n",
    "We can now define a {py:class}`~scarlet2.Scene`:"
   ],
   "id": "9736d104990f8d18"
  },
  {
   "cell_type": "code",
   "id": "548349d1-6630-415c-a85a-60f4169901c0",
   "metadata": {},
   "source": [
    "# coordinates of the transient\n",
    "ra = 215.39425925333\n",
    "dec = 37.90971372\n",
    "coord = SkyCoord(ra, dec, unit=\"deg\")\n",
    "\n",
    "# separate channel information into band and epoch: 0 and 1 element\n",
    "# depends on how channels encodes multi-epoch information\n",
    "band_selector = lambda channel: channel[0]\n",
    "epoch_selector = lambda channel: channel[1]\n",
    "\n",
    "with scarlet2.Scene(model_frame) as scene:\n",
    "    # 1) Host galaxy that is static across epochs\n",
    "    try:\n",
    "        spectrum, morph = scarlet2.init.from_gaussian_moments(obs, coord, box_sizes=[15, 21])\n",
    "    except IndexError:\n",
    "        morph = scarlet2.init.compact_morphology()\n",
    "    # the host is barely resolved and the data are noisy:\n",
    "    # use a starlet morphology for extra stability (esp to noise)\n",
    "    morph = scarlet2.StarletMorphology.from_image(morph)\n",
    "\n",
    "    # Select the transient-free epochs to initialize amplitudes for the static source\n",
    "    # These will be shared across all epochs\n",
    "    spectrum = spectrum[0:2]\n",
    "    bands = ['ZTF_g', 'ZTF_r']\n",
    "    scarlet2.Source(\n",
    "        coord,\n",
    "        scarlet2.StaticArraySpectrum(spectrum, bands=bands, band_selector=band_selector),\n",
    "        morph\n",
    "    )\n",
    "\n",
    "    # 2) Point source for the transient, placed initially at same center\n",
    "    # Define the epochs where the transient is allowed to have a non-zero amplitude\n",
    "    epochs = [2, 3]\n",
    "    # As we already know that the transient is present, we can measure the flux at the center location\n",
    "    # This will be a mixture of host and transient light, to be corrected by the fitting procedure\n",
    "    # Initializing as zero also works\n",
    "    spectrum = scarlet2.init.pixel_spectrum(obs, coord)\n",
    "    scarlet2.PointSource(\n",
    "        coord,\n",
    "        scarlet2.TransientArraySpectrum(spectrum, epochs=epochs, epoch_selector=epoch_selector)\n",
    "    )\n",
    "\n",
    "print(scene.sources)"
   ],
   "outputs": [],
   "execution_count": null
  },
  {
   "metadata": {},
   "cell_type": "markdown",
   "source": [
    "## Fitting\n",
    "\n",
    "Fitting works as usual by defining the {py:class}`~scarlet2.Parameters`. Because the two spectra and the host morphology (of type {py:class}`~scarlet2.StarletMorphology`) aren't simple arrays but models themselves, their free parameters are the array attributes `.data` and `.coeffs`, respectively, as show in the source definition above, e.g. `TransientArraySpectrum(data=f32[4],...)`. These fundamental degrees of freedom of the scene is what we have to pass to the parameters class:"
   ],
   "id": "92e1a3595cddbca6"
  },
  {
   "metadata": {},
   "cell_type": "code",
   "source": [
    "from numpyro.distributions import constraints\n",
    "\n",
    "pos_step = 1e-2\n",
    "morph_step = lambda p: scarlet2.relative_step(p, factor=1e-3)\n",
    "SED_step = lambda p: scarlet2.relative_step(p, factor=5e-2)\n",
    "\n",
    "parameters = scene.make_parameters()\n",
    "# Static host galaxy parameters\n",
    "parameters += scarlet2.Parameter(scene.sources[0].spectrum.data,\n",
    "                                 name=f\"spectrum.{0}\",\n",
    "                                 constraint=constraints.positive,\n",
    "                                 stepsize=SED_step)\n",
    "parameters += scarlet2.Parameter(scene.sources[0].morphology.coeffs,\n",
    "                                 name=f\"morph.{0}\",\n",
    "                                 stepsize=morph_step,\n",
    "                                 )\n",
    "\n",
    "# Transient point source parameters:\n",
    "# no positive constraint on spectrum because it can be zero\n",
    "parameters += scarlet2.Parameter(scene.sources[1].spectrum.data,\n",
    "                                 name=f\"spectrum.{1}\",\n",
    "                                 stepsize=SED_step)\n",
    "parameters += scarlet2.Parameter(scene.sources[1].center,\n",
    "                                 name=f\"center.{1}\",\n",
    "                                 constraint=constraints.positive,\n",
    "                                 stepsize=pos_step)"
   ],
   "id": "b9f15436db287bdb",
   "outputs": [],
   "execution_count": null
  },
  {
   "metadata": {},
   "cell_type": "code",
   "source": [
    "# Fit the scene\n",
    "stepnum = 1000\n",
    "scene_ = scene.fit(obs, parameters, max_iter=stepnum, e_rel=1e-4, progress_bar=False)"
   ],
   "id": "c5305beac10c666",
   "outputs": [],
   "execution_count": null
  },
  {
   "metadata": {},
   "cell_type": "markdown",
   "source": "## Inspect Result",
   "id": "373066bed6af6bea"
  },
  {
   "metadata": {},
   "cell_type": "code",
   "source": [
    "# Plot the model, for each epoch\n",
    "scarlet2.plot.scene(\n",
    "    scene_,\n",
    "    observation=obs,\n",
    "    norm=norm,\n",
    "    show_model=True,\n",
    "    show_observed=True,\n",
    "    show_rendered=True,\n",
    "    show_residual=True,\n",
    "    add_labels=True,\n",
    "    add_boxes=True,\n",
    "    split_channels=False,\n",
    "    box_kwargs={'edgecolor': 'red', 'facecolor': 'none'},\n",
    "    label_kwargs={'color': 'red'}\n",
    ")\n",
    "plt.show()"
   ],
   "id": "66a68ae2b567150a",
   "outputs": [],
   "execution_count": null
  },
  {
   "metadata": {},
   "cell_type": "markdown",
   "source": "Looks good, modest reddening on the left of the center, with no noticeable residuals. Here are the best-fitting fluxes:",
   "id": "cbe2e8b0022541ac"
  },
  {
   "metadata": {},
   "cell_type": "code",
   "source": [
    "print(\"----------------- {}\".format(channels))\n",
    "for k, src in enumerate(scene_.sources):\n",
    "    print(\"Source {}, Fluxes: {}\".format(k, scarlet2.measure.flux(src)))"
   ],
   "id": "ad92a43e4f75584e",
   "outputs": [],
   "execution_count": null
  },
  {
   "metadata": {},
   "cell_type": "markdown",
   "source": "Note that the host galaxy, source 0, has the same flux in each epoch of the same band, while the transient, source 1, has zero flux in the epochs where we forced it to be 'off'.\n",
   "id": "fb7a3fa6bd1027f5"
  }
 ],
 "metadata": {
  "kernelspec": {
   "display_name": "Python 3 (ipykernel)",
   "language": "python",
   "name": "python3"
  },
  "language_info": {
   "codemirror_mode": {
    "name": "ipython",
    "version": 3
   },
   "file_extension": ".py",
   "mimetype": "text/x-python",
   "name": "python",
   "nbconvert_exporter": "python",
   "pygments_lexer": "ipython3",
   "version": "3.13.2"
  }
 },
 "nbformat": 4,
 "nbformat_minor": 5
}
