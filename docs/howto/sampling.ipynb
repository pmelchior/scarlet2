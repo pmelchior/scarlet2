{
 "cells": [
  {
   "cell_type": "markdown",
   "metadata": {},
   "source": [
    "# Sample from Posterior\n",
    "\n",
    "_scarlet2_ can provide samples from the posterior distribution to pass to downstream operations and as the most precise option for uncertainty quantification. In principle, we can get posterior samples for every parameter, and this can be done with any sampler by evaluating the log-posterior distribution. For this guide we will use the Hamiltonian Monte Carlo sampler from numpyro, for which we created a convenient front-end in _scarlet2_.\n",
    "\n",
    "We start from the [quickstart tutorial](../0-quickstart), loading the same data and the best-fitting model."
   ]
  },
  {
   "cell_type": "code",
   "metadata": {},
   "source": [
    "# Import Packages and setup\n",
    "import jax.numpy as jnp\n",
    "import matplotlib.pyplot as plt\n",
    "\n",
    "from scarlet2 import *"
   ],
   "outputs": [],
   "execution_count": null
  },
  {
   "cell_type": "markdown",
   "metadata": {},
   "source": [
    "## Create Observation\n",
    "\n",
    "We need to create the {py:class}`~scarlet2.Observation` because it contains the {py:func}`~scarlet2.Observation.log_likelihood` method we need for the posterior:"
   ]
  },
  {
   "metadata": {},
   "cell_type": "code",
   "source": [
    "# load the data\n",
    "import os\n",
    "from scarlet2.utils import import_scarlet_test_data\n",
    "\n",
    "import_scarlet_test_data()\n",
    "from scarlet_test_data import data_path\n",
    "\n",
    "file = jnp.load(os.path.join(data_path, \"hsc_cosmos_35.npz\"))\n",
    "data = jnp.asarray(file[\"images\"])\n",
    "channels = [str(f) for f in file['filters']]\n",
    "centers = jnp.array([(src['y'], src['x']) for src in file[\"catalog\"]])\n",
    "weights = jnp.asarray(1 / file[\"variance\"])\n",
    "psf = jnp.asarray(file[\"psfs\"])\n",
    "\n",
    "# create the observation\n",
    "obs = Observation(data,\n",
    "                  weights,\n",
    "                  psf=ArrayPSF(psf),\n",
    "                  channels=channels,\n",
    "                  )\n",
    "model_frame = Frame.from_observations(obs)"
   ],
   "outputs": [],
   "execution_count": null
  },
  {
   "cell_type": "markdown",
   "source": [
    "## Load Model\n",
    "\n",
    "We can make use of the best-fit model from the Quickstart guide as the starting point of the sampler."
   ],
   "metadata": {
    "collapsed": false
   }
  },
  {
   "cell_type": "code",
   "source": [
    "import scarlet2.io\n",
    "\n",
    "id = 35\n",
    "filename = \"hsc_cosmos.h5\"\n",
    "scene = scarlet2.io.model_from_h5(filename, path=\"..\", id=id)"
   ],
   "metadata": {
    "collapsed": false
   },
   "outputs": [],
   "execution_count": null
  },
  {
   "cell_type": "markdown",
   "source": [
    "Let's have a look:"
   ],
   "metadata": {
    "collapsed": false
   }
  },
  {
   "cell_type": "code",
   "source": [
    "norm = plot.AsinhAutomaticNorm(obs)\n",
    "plot.scene(scene, observation=obs, norm=norm, add_boxes=True)\n",
    "plt.show()"
   ],
   "metadata": {
    "collapsed": false
   },
   "outputs": [],
   "execution_count": null
  },
  {
   "cell_type": "markdown",
   "metadata": {},
   "source": [
    "## Define Parameters with Prior\n",
    "\n",
    "In principle, we can get posterior samples for every parameter. We will demonstrate by sampling from the spectrum and the center position of the point source #0. We therefore need to set the `prior` attribute for each of these parameters; the attribute `stepsize` is ignored, but `constraint` cannot be used when `prior` is set."
   ]
  },
  {
   "cell_type": "code",
   "source": [
    "import numpyro.distributions as dist\n",
    "\n",
    "C = len(channels)\n",
    "parameters = scene.make_parameters()\n",
    "\n",
    "# rough guess of source brightness across bands\n",
    "p1 = scene.sources[0].spectrum\n",
    "prior1 = dist.Uniform(low=jnp.zeros(C), high=500 * jnp.ones(C))\n",
    "parameters += Parameter(p1, name=\"spectrum\", prior=prior1)\n",
    "\n",
    "# initial position was integer pixel coordinate\n",
    "# assume 0.5 pixel uncertainty\n",
    "p2 = scene.sources[0].center\n",
    "prior2 = dist.Normal(centers[0], scale=0.5)\n",
    "parameters += Parameter(p2, name=\"center\", prior=prior2)"
   ],
   "metadata": {
    "collapsed": false
   },
   "outputs": [],
   "execution_count": null
  },
  {
   "cell_type": "markdown",
   "source": [
    "```{warning}\n",
    "You are responsible to set reasonable priors, which describe what you know about the parameter before having looked at the data. For example, the center prior uses the pre-optimization position `centers[0]` directly loaded from the data rather than the optimized position from `scene`.\n",
    "\n",
    "If in doubt, vary the prior to check how sensitive the posterior is.\n",
    "```\n",
    "\n",
    "## Run Sampler\n",
    "\n",
    "Then we can run numpyro's {py:class}`~numpyro.infer.hmc.NUTS` sampler with a call to {py:func}`~scarlet2.Scene.sample`, which is analogous to {py:func}`~scarlet2.Scene.fit`:"
   ],
   "metadata": {
    "collapsed": false
   }
  },
  {
   "cell_type": "code",
   "metadata": {},
   "source": [
    "mcmc = scene.sample(obs,\n",
    "                    parameters,\n",
    "                    num_warmup=100,\n",
    "                    num_samples=1000,\n",
    "                    dense_mass=True,\n",
    "                    progress_bar=False,\n",
    "                    )\n",
    "\n",
    "mcmc.print_summary()"
   ],
   "outputs": [],
   "execution_count": null
  },
  {
   "cell_type": "markdown",
   "source": [
    "The samples are listed as arrays under the names chosen above for the respective `Parameter`.\n",
    "\n",
    "## Visualize Posterior\n",
    "\n",
    "We can visualize the results, e.g. with the [`corner`](https://corner.readthedocs.io/en/latest/) package:"
   ],
   "metadata": {
    "collapsed": false
   }
  },
  {
   "cell_type": "code",
   "source": [
    "import corner\n",
    "\n",
    "corner.corner(mcmc);"
   ],
   "metadata": {
    "collapsed": false
   },
   "outputs": [],
   "execution_count": null
  },
  {
   "cell_type": "markdown",
   "source": [
    "## Access Samples\n",
    "\n",
    "For working with the samples, we can access the MCMC chain directly:"
   ],
   "metadata": {
    "collapsed": false
   }
  },
  {
   "cell_type": "code",
   "source": [
    "import pprint\n",
    "\n",
    "samples = mcmc.get_samples()\n",
    "pprint.pprint(samples)"
   ],
   "metadata": {
    "collapsed": false
   },
   "outputs": [],
   "execution_count": null
  },
  {
   "cell_type": "code",
   "source": [
    "# get values for three random samples\n",
    "S = 3\n",
    "import jax.random\n",
    "\n",
    "seed = 42\n",
    "key = jax.random.key(seed)\n",
    "idxs = jax.random.randint(key, shape=(S,), minval=0, maxval=mcmc.num_samples)\n",
    "\n",
    "values = [[spectrum, center]\n",
    "          for spectrum, center\n",
    "          in zip(samples['spectrum'][idxs], samples['center'][idxs])\n",
    "          ]\n",
    "\n",
    "# create versions of the scene with these posterior samples\n",
    "scenes = [scene.replace(parameters, v) for v in values]\n",
    "\n",
    "# display the source model\n",
    "fig, axes = plt.subplots(1, S, figsize=(10, 4))\n",
    "for s in range(S):\n",
    "    source_array = scenes[s].sources[0]()\n",
    "    axes[s].imshow(plot.img_to_rgb(source_array, norm=norm))"
   ],
   "metadata": {
    "collapsed": false
   },
   "outputs": [],
   "execution_count": null
  },
  {
   "cell_type": "markdown",
   "source": [
    "The difference are imperceptible for this source which tells us that the data were highly informative. But we can measure e.g. the total fluxes for each sample"
   ],
   "metadata": {
    "collapsed": false
   }
  },
  {
   "cell_type": "code",
   "source": [
    "print(f\"-------------- {channels}\")\n",
    "for i, scene in enumerate(scenes):\n",
    "    print(f\"Flux Sample {i}: {measure.flux(scene.sources[0])}\")"
   ],
   "metadata": {
    "collapsed": false
   },
   "outputs": [],
   "execution_count": null
  }
 ],
 "metadata": {
  "celltoolbar": "Raw Cell Format",
  "kernelspec": {
   "display_name": "Python 3 (ipykernel)",
   "language": "python",
   "name": "python3"
  },
  "language_info": {
   "codemirror_mode": {
    "name": "ipython",
    "version": 3
   },
   "file_extension": ".py",
   "mimetype": "text/x-python",
   "name": "python",
   "nbconvert_exporter": "python",
   "pygments_lexer": "ipython3",
   "version": "3.10.12"
  }
 },
 "nbformat": 4,
 "nbformat_minor": 4
}
