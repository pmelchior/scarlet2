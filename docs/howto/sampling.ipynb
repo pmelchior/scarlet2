{
 "cells": [
  {
   "cell_type": "markdown",
   "metadata": {},
   "source": [
    "# Sample from Posterior\n",
    "\n",
    "_scarlet2_ can provide samples from the posterior distribution to pass to downstream operations and as the most precise option for uncertainty quantification. In principle, we can get posterior samples for every parameter, and this can be done with any sampler by evaluating the log-posterior distribution. For this guide we will use the Hamiltonian Monte Carlo sampler from numpyro, for which we created a convenient front-end in _scarlet2_.\n",
    "\n",
    "We start from the [quickstart tutorial](../0-quickstart), loading the same data and the best-fitting model."
   ]
  },
  {
   "cell_type": "code",
   "execution_count": null,
   "metadata": {},
   "outputs": [],
   "source": [
    "# Import Packages and setup\n",
    "import jax.numpy as jnp\n",
    "import matplotlib.pyplot as plt\n",
    "\n",
    "from scarlet2 import *"
   ]
  },
  {
   "cell_type": "markdown",
   "metadata": {},
   "source": [
    "## Create Observation\n",
    "\n",
    "We need to create the {py:class}`~scarlet2.Observation` because it contains the {py:func}`~scarlet2.Observation.log_likelihood` method we need for the posterior:"
   ]
  },
  {
   "cell_type": "code",
   "execution_count": null,
   "metadata": {},
   "outputs": [],
   "source": [
    "# load the data\n",
    "from huggingface_hub import hf_hub_download\n",
    "\n",
    "filename = hf_hub_download(\n",
    "    repo_id=\"astro-data-lab/scarlet-test-data\", filename=\"hsc_cosmos_35.npz\", repo_type=\"dataset\"\n",
    ")\n",
    "file = jnp.load(filename)\n",
    "data = jnp.asarray(file[\"images\"])\n",
    "channels = [str(f) for f in file[\"filters\"]]\n",
    "centers = jnp.array([(src[\"y\"], src[\"x\"]) for src in file[\"catalog\"]])\n",
    "weights = jnp.asarray(1 / file[\"variance\"])\n",
    "psf = jnp.asarray(file[\"psfs\"])\n",
    "\n",
    "# create the observation\n",
    "obs = Observation(\n",
    "    data,\n",
    "    weights,\n",
    "    psf=ArrayPSF(psf),\n",
    "    channels=channels,\n",
    ")"
   ]
  },
  {
   "cell_type": "markdown",
   "metadata": {
    "collapsed": false
   },
   "source": [
    "## Load Model\n",
    "\n",
    "We can make use of the best-fit model from the Quickstart guide as the starting point of the sampler."
   ]
  },
  {
   "cell_type": "code",
   "execution_count": null,
   "metadata": {},
   "outputs": [],
   "source": [
    "import scarlet2.io\n",
    "\n",
    "id = 35\n",
    "filename = \"hsc_cosmos.h5\"\n",
    "scene = scarlet2.io.model_from_h5(filename, path=\"..\", id=id)"
   ]
  },
  {
   "cell_type": "markdown",
   "metadata": {
    "collapsed": false
   },
   "source": [
    "Let's have a look:"
   ]
  },
  {
   "cell_type": "code",
   "execution_count": null,
   "metadata": {},
   "outputs": [],
   "source": [
    "norm = plot.AsinhAutomaticNorm(obs)\n",
    "plot.scene(scene, observation=obs, norm=norm, add_boxes=True)\n",
    "plt.show()"
   ]
  },
  {
   "cell_type": "markdown",
   "metadata": {},
   "source": [
    "## Define Parameters with Prior\n",
    "\n",
    "In principle, we can get posterior samples for every parameter. We will demonstrate by sampling from the spectrum and the center position of the point source #0. We therefore need to set the `prior` attribute for each of these parameters; the attribute `stepsize` is ignored, but `constraint` cannot be used when `prior` is set."
   ]
  },
  {
   "cell_type": "code",
   "execution_count": null,
   "metadata": {},
   "outputs": [],
   "source": [
    "import numpyro.distributions as dist\n",
    "\n",
    "C = len(channels)\n",
    "parameters = scene.make_parameters()\n",
    "\n",
    "# rough guess of source brightness across bands\n",
    "p1 = scene.sources[0].spectrum\n",
    "prior1 = dist.Uniform(low=jnp.zeros(C), high=500 * jnp.ones(C))\n",
    "parameters += Parameter(p1, name=\"spectrum\", prior=prior1)\n",
    "\n",
    "# initial position was integer pixel coordinate\n",
    "# assume 0.5 pixel uncertainty\n",
    "p2 = scene.sources[0].center\n",
    "prior2 = dist.Normal(centers[0], scale=0.5)\n",
    "parameters += Parameter(p2, name=\"center\", prior=prior2)"
   ]
  },
  {
   "cell_type": "markdown",
   "metadata": {
    "collapsed": false
   },
   "source": [
    "```{warning}\n",
    "You are responsible to set reasonable priors, which describe what you know about the parameter before having looked at the data. In the example above, the spectrum gets a wide flat prior, and the center prior uses the position `centers[0]`, which is given by the original detection catalog. Neither use information from the optimized `scene`.\n",
    "\n",
    "Also: If in doubt how much prior choices matter, vary them within reason.\n",
    "```\n",
    "\n",
    "## Run Sampler\n",
    "\n",
    "Then we can run numpyro's {py:class}`~numpyro.infer.hmc.NUTS` sampler with a call to {py:func}`~scarlet2.Scene.sample`, which is analogous to {py:func}`~scarlet2.Scene.fit`:"
   ]
  },
  {
   "cell_type": "code",
   "execution_count": null,
   "metadata": {},
   "outputs": [],
   "source": [
    "mcmc = scene.sample(\n",
    "    obs,\n",
    "    parameters,\n",
    "    num_warmup=100,\n",
    "    num_samples=1000,\n",
    "    progress_bar=False,\n",
    ")\n",
    "mcmc.print_summary()"
   ]
  },
  {
   "cell_type": "markdown",
   "metadata": {
    "collapsed": false
   },
   "source": [
    "## Access Samples\n",
    "\n",
    "The samples can be accessed from the MCMC chain and are listed as arrays under the names chosen above for the respective `Parameter`."
   ]
  },
  {
   "cell_type": "code",
   "execution_count": null,
   "metadata": {},
   "outputs": [],
   "source": [
    "import pprint\n",
    "\n",
    "samples = mcmc.get_samples()\n",
    "pprint.pprint(samples)"
   ]
  },
  {
   "cell_type": "markdown",
   "metadata": {},
   "source": [
    "To create versions of the scene for any of the samples, we first select a few at random and then use the method {py:func}`scarlet2.Module.replace` to set their values at the locations identified by `parameters`:"
   ]
  },
  {
   "cell_type": "code",
   "execution_count": null,
   "metadata": {},
   "outputs": [],
   "source": [
    "# get values for three random samples\n",
    "S = 3\n",
    "import jax.random\n",
    "\n",
    "seed = 42\n",
    "key = jax.random.key(seed)\n",
    "idxs = jax.random.randint(key, shape=(S,), minval=0, maxval=mcmc.num_samples)\n",
    "\n",
    "values = [[spectrum, center] for spectrum, center in zip(samples[\"spectrum\"][idxs], samples[\"center\"][idxs])]\n",
    "\n",
    "# create versions of the scene with these posterior samples\n",
    "scenes = [scene.replace(parameters, v) for v in values]\n",
    "\n",
    "# display the source model\n",
    "fig, axes = plt.subplots(1, S, figsize=(10, 4))\n",
    "for s in range(S):\n",
    "    source_array = scenes[s].sources[0]()\n",
    "    axes[s].imshow(plot.img_to_rgb(source_array, norm=norm))"
   ]
  },
  {
   "cell_type": "markdown",
   "metadata": {
    "collapsed": false
   },
   "source": [
    "The difference are imperceptible for this source which tells us that the data were highly informative. But we can measure e.g. the total fluxes for each sample"
   ]
  },
  {
   "cell_type": "code",
   "execution_count": null,
   "metadata": {},
   "outputs": [],
   "source": [
    "print(f\"-------------- {channels}\")\n",
    "for i, scene in enumerate(scenes):\n",
    "    print(f\"Flux Sample {i}: {measure.flux(scene.sources[0])}\")"
   ]
  },
  {
   "cell_type": "markdown",
   "metadata": {},
   "source": [
    "## Visualize Posterior\n",
    "\n",
    "We can also visualize the posterior distributions, e.g. with the [`corner`](https://corner.readthedocs.io/en/latest/) package:"
   ]
  },
  {
   "cell_type": "code",
   "execution_count": null,
   "metadata": {},
   "outputs": [],
   "source": [
    "import corner\n",
    "\n",
    "corner.corner(mcmc);"
   ]
  }
 ],
 "metadata": {
  "celltoolbar": "Raw Cell Format",
  "kernelspec": {
   "display_name": "Python 3 (ipykernel)",
   "language": "python",
   "name": "python3"
  },
  "language_info": {
   "codemirror_mode": {
    "name": "ipython",
    "version": 3
   },
   "file_extension": ".py",
   "mimetype": "text/x-python",
   "name": "python",
   "nbconvert_exporter": "python",
   "pygments_lexer": "ipython3",
   "version": "3.10.12"
  }
 },
 "nbformat": 4,
 "nbformat_minor": 4
}
